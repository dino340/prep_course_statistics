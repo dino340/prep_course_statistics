{
 "cells": [
  {
   "cell_type": "markdown",
   "metadata": {
    "ExecuteTime": {
     "end_time": "2020-02-05T17:56:18.818219Z",
     "start_time": "2020-02-05T17:56:18.810698Z"
    }
   },
   "source": [
    "## Exercise 1\n",
    "In Orange County, 51% of the adults are males. (It doesn't take too much advanced\n",
    "mathematics to deduce that the other 49% are females.) One adult is randomly selected\n",
    "for a survey involving credit card usage.\n",
    "\n",
    "- **(a)** Find the probability that the selected person is a male.\n",
    "\n",
    "- **(b)** It is later learned that the selected survey subject was smoking a cigar. Also, 9.5% of males smoke cigars, whereas 1.7% of females smoke cigars (based on data from the Substance Abuse and Mental Health Services Administration). Use this additional information to find the probability that the cigar−smoking respondent is a male\n",
    "\n",
    "Use following notation:\n",
    "M = male <br>\n",
    "F = female <br>\n",
    "C = cigar smoker<br>\n",
    "NC = not a cigar smoker<br>\n"
   ]
  },
  {
   "cell_type": "code",
   "execution_count": 5,
   "metadata": {},
   "outputs": [],
   "source": [
    "M = 0.51\n",
    "C = 0.112\n",
    "CM = 0.095"
   ]
  },
  {
   "cell_type": "code",
   "execution_count": 7,
   "metadata": {},
   "outputs": [],
   "source": [
    "MC = (M * CM) / C"
   ]
  },
  {
   "cell_type": "code",
   "execution_count": 8,
   "metadata": {},
   "outputs": [
    {
     "name": "stdout",
     "output_type": "stream",
     "text": [
      "0.43258928571428573\n"
     ]
    }
   ],
   "source": [
    "print(MC)"
   ]
  },
  {
   "cell_type": "markdown",
   "metadata": {
    "ExecuteTime": {
     "end_time": "2020-02-05T17:56:20.532960Z",
     "start_time": "2020-02-05T17:56:20.525450Z"
    }
   },
   "source": [
    "# Exercise 2\n",
    "\n",
    "A diagnostic test has a probability 0.95 of giving a positive result when applied to a person suffering\n",
    "from a certain disease, and a probability 0.10 of giving a (false) positive when applied to a non-sufferer. It is\n",
    "estimated that 0.5 % of the population are sufferers. Suppose that the test is now administered to a person about\n",
    "whom we have no relevant information relating to the disease (apart from the fact that he/she comes from this\n",
    "population). \n",
    "\n",
    "Calculate the following probabilities:\n",
    "- **(a)** that the test result will be positive;\n",
    "- **(b)** that, given a positive result, the person is a sufferer;\n",
    "- **(c)** that, given a negative result, the person is a non-sufferer;\n",
    "- **(d)** that the person will be misclassified.\n",
    "\n",
    "Use following notation:\n",
    "\n",
    "T = test positive <br>\n",
    "NT = test negative<br>\n",
    "S = sufferer<br>\n",
    "NS = non-sufferer<br>\n",
    "M = misclassified<br>\n",
    "\n",
    "Solve it by two approaches:\n",
    "1. Arithmetically\n",
    "2. By simulation"
   ]
  },
  {
   "cell_type": "code",
   "execution_count": 35,
   "metadata": {},
   "outputs": [
    {
     "name": "stdout",
     "output_type": "stream",
     "text": [
      "A = 10.425%\n",
      "B = 4.5563549160671455%\n",
      "C = 99.97209042701647%\n",
      "D = 4.084264489050677%\n"
     ]
    }
   ],
   "source": [
    "S = 0.005\n",
    "T = 0.95\n",
    "NS = 0.995\n",
    "NT = 0.1\n",
    "positiveTest = ((S * T) + (NS * NT))\n",
    "print('A = ' + str(positiveTest * 100) + '%')\n",
    "sufferer = ((S * T) / positiveTest)\n",
    "print('B = ' + str(sufferer * 100) + '%')\n",
    "no = (NS * .9) + (S * 0.05)\n",
    "nonsufferer = (NS * .9) / no\n",
    "print('C = ' + str(nonsufferer * 100) + '%')\n",
    "M = (sufferer - S) + (1 - nonsufferer)\n",
    "print('D = ' + str(M * 100) + '%')"
   ]
  },
  {
   "cell_type": "code",
   "execution_count": 23,
   "metadata": {},
   "outputs": [],
   "source": [
    "# import numpy \n",
    "import numpy as np"
   ]
  },
  {
   "cell_type": "code",
   "execution_count": 36,
   "metadata": {},
   "outputs": [],
   "source": [
    "# how many times we run the simulation\n",
    "n_runs = 100000\n",
    "\n",
    "# initialize variables\n",
    "S = 0\n",
    "S_YES = 0\n",
    "S_NO = 0\n",
    "NS = 0\n",
    "NS_YES = 0\n",
    "NS_NO = 0\n",
    "YES = 0\n",
    "NO = 0"
   ]
  },
  {
   "cell_type": "code",
   "execution_count": 37,
   "metadata": {},
   "outputs": [],
   "source": [
    "# process simulation\n",
    "for _ in range(n_runs):\n",
    "    # Sufferer (probability of suffering from the disease)\n",
    "    if np.random.random() < 0.005: \n",
    "        S += 1\n",
    "\n",
    "        # Test gives positive result\n",
    "        if np.random.random() < 0.95:\n",
    "            S_YES += 1\n",
    "            YES +=1\n",
    "\n",
    "        # Test gives negative result\n",
    "        else:\n",
    "            S_NO += 1\n",
    "            NO += 1\n",
    "\n",
    "    #Non Sufferer (probability of not suffering from the disease)\n",
    "    else:\n",
    "        NS += 1\n",
    "\n",
    "        # Test gives positive result\n",
    "        if np.random.random() < 0.1:\n",
    "            NS_YES += 1\n",
    "            YES += 1\n",
    "\n",
    "        # NO\n",
    "        else:\n",
    "            NS_NO += 1\n",
    "            NO +=1"
   ]
  },
  {
   "cell_type": "code",
   "execution_count": 38,
   "metadata": {},
   "outputs": [],
   "source": [
    "# create probabilities\n",
    "P_S = S / n_runs * 100\n",
    "P_S_YES = S_YES / n_runs * 100\n",
    "P_S_NO = S_NO / n_runs * 100\n",
    "P_NS = NS / n_runs * 100\n",
    "P_NS_YES = NS_YES / n_runs * 100\n",
    "P_NS_NO = NS_NO / n_runs * 100\n",
    "P_YES = YES / n_runs * 100\n",
    "P_NO = NO / n_runs * 100"
   ]
  },
  {
   "cell_type": "code",
   "execution_count": 39,
   "metadata": {},
   "outputs": [
    {
     "name": "stdout",
     "output_type": "stream",
     "text": [
      "Suffering from the disease: 0.482%\n",
      "Suffering from the disease and testing positive: 0.45199999999999996%\n",
      "Suffering from the disease and testing negative: 0.03%\n",
      "Not suffering from the disease: 99.518%\n",
      "Not suffering from the disease and testing positive: 10.054%\n",
      "Not suffering from the disease and testing negative: 89.464%\n",
      "Testing positive: 10.506%\n",
      "Testing negative: 89.494\n"
     ]
    }
   ],
   "source": [
    "print(f'Suffering from the disease: {P_S}%')\n",
    "print(f'Suffering from the disease and testing positive: {P_S_YES}%')\n",
    "print(f'Suffering from the disease and testing negative: {P_S_NO}%')\n",
    "print(f'Not suffering from the disease: {P_NS}%')\n",
    "print(f'Not suffering from the disease and testing positive: {P_NS_YES}%')\n",
    "print(f'Not suffering from the disease and testing negative: {P_NS_NO}%')\n",
    "print(f'Testing positive: {P_YES}%')\n",
    "print(f'Testing negative: {P_NO}')"
   ]
  },
  {
   "cell_type": "code",
   "execution_count": 34,
   "metadata": {},
   "outputs": [
    {
     "name": "stdout",
     "output_type": "stream",
     "text": [
      "A = 10.546%\n",
      "B = 0.45599999999999996%\n",
      "C = 89.42999999999999%\n",
      "D = 10.113999999999999%\n"
     ]
    }
   ],
   "source": [
    "print('A = ' + str(P_YES) + '%')\n",
    "print('B = ' + str(P_S_YES) + '%')\n",
    "print('C = ' + str(P_NS_NO) + '%')\n",
    "misclassified = P_S_NO + P_NS_YES\n",
    "print('D = ' + str(misclassified) + '%')"
   ]
  },
  {
   "cell_type": "code",
   "execution_count": null,
   "metadata": {},
   "outputs": [],
   "source": []
  }
 ],
 "metadata": {
  "kernelspec": {
   "display_name": "Python 3",
   "language": "python",
   "name": "python3"
  },
  "language_info": {
   "codemirror_mode": {
    "name": "ipython",
    "version": 3
   },
   "file_extension": ".py",
   "mimetype": "text/x-python",
   "name": "python",
   "nbconvert_exporter": "python",
   "pygments_lexer": "ipython3",
   "version": "3.8.8"
  },
  "toc": {
   "base_numbering": 1,
   "nav_menu": {},
   "number_sections": true,
   "sideBar": true,
   "skip_h1_title": false,
   "title_cell": "Table of Contents",
   "title_sidebar": "Contents",
   "toc_cell": false,
   "toc_position": {},
   "toc_section_display": true,
   "toc_window_display": false
  },
  "varInspector": {
   "cols": {
    "lenName": 16,
    "lenType": 16,
    "lenVar": 40
   },
   "kernels_config": {
    "python": {
     "delete_cmd_postfix": "",
     "delete_cmd_prefix": "del ",
     "library": "var_list.py",
     "varRefreshCmd": "print(var_dic_list())"
    },
    "r": {
     "delete_cmd_postfix": ") ",
     "delete_cmd_prefix": "rm(",
     "library": "var_list.r",
     "varRefreshCmd": "cat(var_dic_list()) "
    }
   },
   "types_to_exclude": [
    "module",
    "function",
    "builtin_function_or_method",
    "instance",
    "_Feature"
   ],
   "window_display": false
  }
 },
 "nbformat": 4,
 "nbformat_minor": 4
}
