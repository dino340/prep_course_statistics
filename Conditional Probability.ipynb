{
 "cells": [
  {
   "cell_type": "code",
   "execution_count": 1,
   "id": "0c2e5651-09ee-466c-a21e-2f004b79386a",
   "metadata": {},
   "outputs": [],
   "source": [
    "# import numpy \n",
    "import numpy as np"
   ]
  },
  {
   "cell_type": "code",
   "execution_count": 2,
   "id": "b5c6b10f-74f1-45eb-9666-4cbbca3c0a8a",
   "metadata": {},
   "outputs": [],
   "source": [
    "# how many times we run the simulation\n",
    "n_runs = 100000\n",
    "\n",
    "# initialize variables\n",
    "S = 0\n",
    "S_YES = 0\n",
    "S_NO = 0\n",
    "NS = 0\n",
    "NS_YES = 0\n",
    "NS_NO = 0\n",
    "YES = 0\n",
    "NO = 0"
   ]
  },
  {
   "cell_type": "code",
   "execution_count": 3,
   "id": "7e908f37-15e8-4ee8-aa7b-7894e68f2b9f",
   "metadata": {},
   "outputs": [],
   "source": [
    "# process simulation\n",
    "for _ in range(n_runs):\n",
    "    # Sufferer (probability of suffering from the disease)\n",
    "    if np.random.random() < 0.005: \n",
    "        S += 1\n",
    "\n",
    "        # Test gives positive result\n",
    "        if np.random.random() < 0.95:\n",
    "            S_YES += 1\n",
    "            YES +=1\n",
    "\n",
    "        # Test gives negative result\n",
    "        else:\n",
    "            S_NO += 1\n",
    "            NO += 1\n",
    "\n",
    "    #Non Sufferer (probability of not suffering from the disease)\n",
    "    else:\n",
    "        NS += 1\n",
    "\n",
    "        # Test gives positive result\n",
    "        if np.random.random() < 0.1:\n",
    "            NS_YES += 1\n",
    "            YES += 1\n",
    "\n",
    "        # NO\n",
    "        else:\n",
    "            NS_NO += 1\n",
    "            NO +=1"
   ]
  },
  {
   "cell_type": "code",
   "execution_count": 4,
   "id": "eb24b8be-397a-4aa7-86f2-5c3113443846",
   "metadata": {},
   "outputs": [],
   "source": [
    "# create probabilities\n",
    "P_S = S / n_runs * 100\n",
    "P_S_YES = S_YES / n_runs * 100\n",
    "P_S_NO = S_NO / n_runs * 100\n",
    "P_NS = NS / n_runs * 100\n",
    "P_NS_YES = NS_YES / n_runs * 100\n",
    "P_NS_NO = NS_NO / n_runs * 100\n",
    "P_YES = YES / n_runs * 100\n",
    "P_NO = NO / n_runs * 100"
   ]
  },
  {
   "cell_type": "code",
   "execution_count": 5,
   "id": "42e3e4cd-d512-4825-b578-591b4b84a992",
   "metadata": {},
   "outputs": [
    {
     "name": "stdout",
     "output_type": "stream",
     "text": [
      "Sam is the coach: 60.12%\n",
      "Sam is the coach and you are the goalkeeper: 30.108%\n",
      "Sam is the coach and you are not the goalkeeper: 30.012%\n",
      "Alex is the coach: 39.879999999999995%\n",
      "Alex is the coach and you are the goalkeeper: 11.902%\n",
      "Alex is the coach and you are not the goalkeeper: 27.977999999999998%\n",
      "You are the goalkeeper: 42.01%\n",
      "You are not the goalkeeper: 57.989999999999995\n"
     ]
    }
   ],
   "source": [
    "print(f'Suffering from the disease: {P_S}%')\n",
    "print(f'Suffering from the disease and testing positive: {P_S_YES}%')\n",
    "print(f'Suffering from the disease and testing negative: {P_S_NO}%')\n",
    "print(f'Not suffering from the disease: {P_NS}%')\n",
    "print(f'Not suffering from the disease and testing positive: {P_NS_YES}%')\n",
    "print(f'Not suffering from the disease and testing negative: {P_NS_NO}%')\n",
    "print(f'Testing positive: {P_YES}%')\n",
    "print(f'Testing negative: {P_NO}')"
   ]
  },
  {
   "cell_type": "code",
   "execution_count": 6,
   "id": "7b37b10d-d1cb-43c5-8c7b-4dc50beba055",
   "metadata": {},
   "outputs": [
    {
     "name": "stdout",
     "output_type": "stream",
     "text": [
      "0.7166865032135207\n"
     ]
    }
   ],
   "source": [
    "# P(Sam | goalkeeper)\n",
    "P_S_Pos = P_S_YES / P_YES\n",
    "print(P_S_Pos)"
   ]
  },
  {
   "cell_type": "code",
   "execution_count": null,
   "id": "df68687d-70a4-419f-bc1d-1d49f617bd8a",
   "metadata": {},
   "outputs": [],
   "source": []
  }
 ],
 "metadata": {
  "kernelspec": {
   "display_name": "Python 3",
   "language": "python",
   "name": "python3"
  },
  "language_info": {
   "codemirror_mode": {
    "name": "ipython",
    "version": 3
   },
   "file_extension": ".py",
   "mimetype": "text/x-python",
   "name": "python",
   "nbconvert_exporter": "python",
   "pygments_lexer": "ipython3",
   "version": "3.8.8"
  }
 },
 "nbformat": 4,
 "nbformat_minor": 5
}
