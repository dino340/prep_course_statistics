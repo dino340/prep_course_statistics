{
 "cells": [
  {
   "cell_type": "code",
   "execution_count": 1,
   "metadata": {
    "ExecuteTime": {
     "end_time": "2020-02-05T17:54:42.062131Z",
     "start_time": "2020-02-05T17:54:41.626763Z"
    }
   },
   "outputs": [],
   "source": [
    "# import numpy\n",
    "import numpy as np\n",
    "\n",
    "# import matplotlib.pyplot\n",
    "import matplotlib.pyplot as plt\n",
    "\n",
    "# import Counter\n",
    "from collections import Counter\n",
    "\n",
    "# use style 'fivethirtyeight' (optional)\n",
    "plt.style.use('fivethirtyeight')"
   ]
  },
  {
   "cell_type": "markdown",
   "metadata": {
    "ExecuteTime": {
     "end_time": "2020-02-05T17:54:42.113199Z",
     "start_time": "2020-02-05T17:54:42.101587Z"
    }
   },
   "source": [
    "#### Create function `perform_bernoulli_trial` with parameters n and p\n",
    "\n",
    "PARAMS:\n",
    "- n (int) - number of trials\n",
    "- p (float) - probability of success\n",
    "\n",
    "RETURNS:\n",
    "- n_success (int) - number of successes\n",
    "\n"
   ]
  },
  {
   "cell_type": "code",
   "execution_count": 17,
   "metadata": {},
   "outputs": [],
   "source": [
    "def perform_bernoulli_trial(n, p):\n",
    "    samples = np.random.binomial(1, p, n)\n",
    "    success = Counter(samples)\n",
    "    n_success = success[1]\n",
    "    return n_success"
   ]
  },
  {
   "cell_type": "code",
   "execution_count": null,
   "metadata": {},
   "outputs": [],
   "source": []
  },
  {
   "cell_type": "markdown",
   "metadata": {
    "ExecuteTime": {
     "end_time": "2020-02-05T17:54:42.610756Z",
     "start_time": "2020-02-05T17:54:42.602316Z"
    }
   },
   "source": [
    "#### Use function `perform_bernoulli_trial` with inputs n = 100, p = 0.5"
   ]
  },
  {
   "cell_type": "code",
   "execution_count": 20,
   "metadata": {},
   "outputs": [
    {
     "data": {
      "text/plain": [
       "56"
      ]
     },
     "execution_count": 20,
     "metadata": {},
     "output_type": "execute_result"
    }
   ],
   "source": [
    "perform_bernoulli_trial(100,0.5)"
   ]
  },
  {
   "cell_type": "code",
   "execution_count": null,
   "metadata": {},
   "outputs": [],
   "source": []
  },
  {
   "cell_type": "markdown",
   "metadata": {
    "ExecuteTime": {
     "end_time": "2020-02-05T17:54:43.020097Z",
     "start_time": "2020-02-05T17:54:42.962800Z"
    }
   },
   "source": [
    "#### Call function _perform_bernoulli_trial_ 1000-times with same parameters as before and store the result in `successes_list`"
   ]
  },
  {
   "cell_type": "code",
   "execution_count": 22,
   "metadata": {},
   "outputs": [],
   "source": [
    "count = 0\n",
    "successes_list = []\n",
    "while count < 1000:\n",
    "    successes_list.append(perform_bernoulli_trial(100,0.5))\n",
    "    count += 1"
   ]
  },
  {
   "cell_type": "code",
   "execution_count": 23,
   "metadata": {},
   "outputs": [
    {
     "name": "stdout",
     "output_type": "stream",
     "text": [
      "[43, 46, 46, 58, 52, 46, 49, 47, 47, 52, 51, 49, 47, 40, 52, 43, 54, 47, 45, 47, 54, 44, 49, 54, 43, 51, 56, 53, 49, 55, 46, 58, 51, 54, 47, 47, 44, 51, 52, 47, 45, 48, 43, 55, 54, 49, 47, 45, 58, 46, 42, 40, 45, 40, 51, 46, 46, 54, 52, 42, 54, 44, 50, 43, 56, 49, 51, 49, 54, 40, 57, 47, 52, 53, 48, 56, 50, 50, 48, 47, 53, 57, 51, 48, 56, 47, 49, 55, 57, 56, 54, 49, 45, 47, 43, 46, 53, 49, 51, 45, 45, 50, 58, 52, 51, 45, 39, 58, 42, 46, 46, 50, 50, 41, 41, 56, 57, 45, 55, 49, 49, 51, 50, 52, 50, 56, 56, 50, 42, 52, 52, 54, 45, 54, 50, 56, 41, 52, 60, 48, 52, 57, 52, 50, 43, 46, 58, 53, 46, 54, 56, 51, 58, 45, 50, 49, 50, 52, 54, 54, 47, 53, 49, 49, 46, 50, 45, 49, 59, 45, 53, 50, 46, 52, 49, 43, 54, 51, 44, 46, 50, 38, 49, 50, 49, 50, 58, 49, 52, 51, 52, 48, 55, 49, 49, 55, 38, 49, 60, 47, 44, 47, 51, 45, 58, 53, 48, 55, 49, 51, 51, 53, 53, 44, 49, 48, 51, 51, 47, 52, 43, 47, 52, 56, 46, 45, 50, 45, 50, 49, 54, 55, 50, 50, 62, 55, 53, 53, 51, 52, 40, 54, 50, 50, 58, 56, 50, 47, 51, 43, 61, 45, 49, 56, 54, 52, 59, 50, 58, 51, 49, 50, 52, 61, 52, 51, 50, 46, 53, 43, 49, 51, 40, 52, 41, 53, 52, 44, 50, 47, 51, 55, 46, 48, 57, 57, 48, 47, 55, 43, 56, 46, 49, 58, 46, 56, 43, 48, 51, 42, 48, 43, 47, 42, 59, 53, 46, 48, 49, 40, 52, 53, 57, 56, 45, 56, 47, 57, 49, 44, 53, 46, 48, 47, 43, 58, 43, 43, 56, 45, 53, 52, 56, 51, 50, 51, 48, 53, 52, 54, 49, 49, 56, 44, 53, 50, 42, 43, 50, 52, 50, 48, 54, 55, 50, 59, 46, 46, 53, 57, 47, 55, 45, 42, 49, 49, 53, 50, 63, 47, 50, 65, 41, 43, 63, 52, 54, 49, 53, 48, 57, 46, 51, 57, 55, 49, 48, 51, 59, 40, 44, 52, 47, 47, 52, 51, 53, 51, 49, 45, 48, 46, 48, 47, 49, 38, 48, 51, 46, 53, 48, 56, 51, 52, 54, 52, 48, 54, 51, 58, 49, 48, 47, 50, 55, 44, 57, 42, 45, 48, 52, 49, 45, 41, 51, 49, 59, 44, 58, 46, 47, 52, 51, 50, 47, 50, 52, 52, 50, 58, 49, 49, 44, 52, 56, 52, 54, 52, 50, 51, 46, 42, 49, 40, 49, 48, 50, 58, 43, 40, 55, 51, 57, 53, 47, 50, 53, 52, 52, 54, 62, 49, 50, 50, 55, 59, 45, 54, 47, 48, 56, 51, 57, 50, 55, 54, 57, 60, 50, 50, 54, 49, 62, 46, 54, 45, 49, 52, 50, 51, 41, 52, 54, 44, 54, 49, 51, 44, 50, 53, 48, 46, 47, 52, 39, 51, 52, 46, 55, 53, 49, 43, 52, 49, 44, 49, 48, 48, 45, 38, 52, 43, 52, 45, 45, 46, 61, 46, 56, 47, 57, 54, 42, 56, 47, 55, 55, 46, 52, 50, 49, 63, 44, 49, 45, 43, 46, 49, 56, 54, 48, 53, 49, 51, 44, 53, 57, 52, 53, 58, 46, 48, 46, 49, 49, 57, 51, 48, 46, 46, 47, 54, 50, 43, 52, 56, 52, 57, 53, 56, 43, 49, 48, 52, 51, 53, 55, 56, 57, 47, 57, 57, 45, 41, 50, 49, 52, 51, 48, 50, 55, 58, 48, 46, 62, 47, 56, 45, 52, 59, 47, 49, 41, 50, 45, 53, 55, 58, 49, 56, 47, 54, 54, 50, 48, 52, 50, 47, 38, 59, 55, 46, 48, 55, 50, 54, 53, 54, 49, 52, 49, 47, 45, 43, 54, 53, 52, 43, 49, 52, 51, 56, 54, 54, 46, 49, 48, 54, 45, 48, 52, 48, 54, 51, 52, 54, 56, 44, 56, 50, 56, 40, 46, 47, 42, 51, 59, 56, 44, 50, 45, 47, 43, 53, 61, 43, 49, 49, 46, 49, 51, 51, 53, 48, 52, 58, 41, 54, 52, 56, 46, 51, 57, 61, 47, 56, 43, 54, 55, 49, 56, 43, 46, 45, 35, 51, 57, 58, 55, 63, 55, 48, 41, 46, 54, 47, 50, 66, 51, 51, 52, 44, 50, 47, 59, 45, 46, 49, 45, 47, 44, 44, 47, 53, 52, 47, 45, 47, 50, 56, 51, 43, 50, 45, 52, 52, 51, 47, 49, 56, 48, 47, 57, 43, 45, 51, 53, 49, 49, 54, 45, 45, 52, 47, 56, 51, 42, 55, 53, 38, 47, 48, 56, 58, 52, 48, 51, 47, 48, 51, 46, 48, 53, 61, 63, 56, 44, 38, 55, 53, 50, 48, 50, 53, 43, 45, 46, 46, 57, 50, 46, 45, 44, 59, 53, 53, 56, 44, 51, 47, 42, 48, 47, 53, 46, 43, 47, 50, 58, 46, 55, 39, 46, 48, 49, 52, 51, 50, 46, 48, 44, 52, 46, 56, 44, 37, 51, 46, 58, 46, 50, 51, 46, 39, 40, 49, 61, 49, 49, 55, 41, 56, 45, 48, 50, 39, 50, 50, 53, 51, 50, 54, 45, 51, 51, 46, 43, 56, 47, 40, 48, 41, 48, 40, 48, 52, 52, 48, 44, 46, 54, 45, 57, 54, 50, 44, 47, 51, 48, 58, 51, 50, 53, 51, 47, 51, 54, 55, 46, 53, 60, 47, 51, 38, 53, 51, 49, 47, 53, 47, 52, 60, 47, 50, 44, 52, 52, 53, 48, 54, 49, 52, 45, 56, 46, 48, 45, 54, 46, 61, 44, 49, 39, 42, 52, 51, 50, 52, 50, 58, 52, 59, 56, 47, 52, 48, 50, 57, 56, 38, 46, 46, 51, 46, 49, 52, 53, 57, 54, 52, 44, 53, 55, 50, 51, 51, 56, 49, 59, 49]\n"
     ]
    }
   ],
   "source": [
    "print(successes_list)"
   ]
  },
  {
   "cell_type": "markdown",
   "metadata": {
    "ExecuteTime": {
     "end_time": "2020-02-05T17:54:43.296477Z",
     "start_time": "2020-02-05T17:54:43.289959Z"
    }
   },
   "source": [
    "#### Count occurence of each number from `successes_list` using Counter and store the result in `count_occurence`\n",
    "\n",
    "You can find for more info about Counter [**here**](https://docs.python.org/2/library/collections.html#collections.Counter)."
   ]
  },
  {
   "cell_type": "code",
   "execution_count": 24,
   "metadata": {},
   "outputs": [],
   "source": [
    "count_occurence = Counter(successes_list)"
   ]
  },
  {
   "cell_type": "code",
   "execution_count": 25,
   "metadata": {},
   "outputs": [
    {
     "data": {
      "text/plain": [
       "Counter({43: 36,\n",
       "         46: 69,\n",
       "         58: 27,\n",
       "         52: 85,\n",
       "         49: 86,\n",
       "         47: 69,\n",
       "         51: 78,\n",
       "         40: 14,\n",
       "         54: 55,\n",
       "         45: 50,\n",
       "         44: 33,\n",
       "         56: 52,\n",
       "         53: 56,\n",
       "         55: 35,\n",
       "         48: 61,\n",
       "         42: 15,\n",
       "         50: 81,\n",
       "         57: 30,\n",
       "         39: 6,\n",
       "         41: 13,\n",
       "         60: 5,\n",
       "         59: 14,\n",
       "         38: 9,\n",
       "         62: 4,\n",
       "         61: 8,\n",
       "         63: 5,\n",
       "         65: 1,\n",
       "         35: 1,\n",
       "         66: 1,\n",
       "         37: 1})"
      ]
     },
     "execution_count": 25,
     "metadata": {},
     "output_type": "execute_result"
    }
   ],
   "source": [
    "count_occurence"
   ]
  },
  {
   "cell_type": "markdown",
   "metadata": {
    "ExecuteTime": {
     "end_time": "2020-02-05T17:54:43.571225Z",
     "start_time": "2020-02-05T17:54:43.568147Z"
    }
   },
   "source": [
    "#### Count the probability for each number from `count_occurence` and store the result in `probas`\n"
   ]
  },
  {
   "cell_type": "code",
   "execution_count": 29,
   "metadata": {},
   "outputs": [],
   "source": [
    "probas = []\n",
    "for x in count_occurence:\n",
    "    num = count_occurence[x]\n",
    "    prob = num / len(successes_list)\n",
    "    probas.append(prob)"
   ]
  },
  {
   "cell_type": "code",
   "execution_count": null,
   "metadata": {},
   "outputs": [],
   "source": []
  },
  {
   "cell_type": "markdown",
   "metadata": {},
   "source": [
    "Below you have some information about how to do plots in Python. We will be covering all of this during the bootcamp. But you can find these basics here so we can visualize the distributions."
   ]
  },
  {
   "cell_type": "code",
   "execution_count": 30,
   "metadata": {
    "ExecuteTime": {
     "end_time": "2020-02-05T17:54:44.056628Z",
     "start_time": "2020-02-05T17:54:43.850076Z"
    }
   },
   "outputs": [
    {
     "data": {
      "image/png": "[encoded data removed]",
      "text/plain": [
       "<Figure size 432x288 with 1 Axes>"
      ]
     },
     "metadata": {},
     "output_type": "display_data"
    }
   ],
   "source": [
    "# plot distribution (PMF) of 'succes_list'\n",
    "plt.scatter(x=count_occurence.keys(), y=probas)\n",
    "plt.xlabel('number of succeess out of 100')\n",
    "plt.ylabel('probability')\n",
    "# Show the plot\n",
    "plt.show()"
   ]
  },
  {
   "cell_type": "markdown",
   "metadata": {
    "ExecuteTime": {
     "end_time": "2020-02-05T17:54:44.112264Z",
     "start_time": "2020-02-05T17:54:44.096570Z"
    }
   },
   "source": [
    "#### Generate 100000 numbers from uniform distribution with parameters a = 1, b = 6\n"
   ]
  },
  {
   "cell_type": "code",
   "execution_count": 32,
   "metadata": {},
   "outputs": [],
   "source": [
    "uniform = np.random.normal(1, 6, size=100000)"
   ]
  },
  {
   "cell_type": "code",
   "execution_count": null,
   "metadata": {},
   "outputs": [],
   "source": []
  },
  {
   "cell_type": "code",
   "execution_count": 33,
   "metadata": {
    "ExecuteTime": {
     "end_time": "2020-02-05T17:54:44.515039Z",
     "start_time": "2020-02-05T17:54:44.330746Z"
    },
    "tags": []
   },
   "outputs": [
    {
     "data": {
      "image/png": "[encoded data removed]",
      "text/plain": [
       "<Figure size 432x288 with 1 Axes>"
      ]
     },
     "metadata": {},
     "output_type": "display_data"
    }
   ],
   "source": [
    "# plot histogram of uniform distribution with paramsdensity=True, bins=6\n",
    "plt.hist(uniform, density=True, bins=6)\n",
    "plt.ylabel('density')\n",
    "plt.xlabel('value')\n",
    "plt.show()"
   ]
  },
  {
   "cell_type": "markdown",
   "metadata": {
    "ExecuteTime": {
     "end_time": "2020-02-05T17:54:44.583762Z",
     "start_time": "2020-02-05T17:54:44.555162Z"
    }
   },
   "source": [
    "#### Check the mean of uniform data (using NumPy)"
   ]
  },
  {
   "cell_type": "code",
   "execution_count": 34,
   "metadata": {},
   "outputs": [
    {
     "data": {
      "text/plain": [
       "0.9764695080506332"
      ]
     },
     "execution_count": 34,
     "metadata": {},
     "output_type": "execute_result"
    }
   ],
   "source": [
    "np.mean(uniform)"
   ]
  },
  {
   "cell_type": "code",
   "execution_count": null,
   "metadata": {},
   "outputs": [],
   "source": []
  },
  {
   "cell_type": "markdown",
   "metadata": {
    "ExecuteTime": {
     "end_time": "2020-02-05T17:54:44.758510Z",
     "start_time": "2020-02-05T17:54:44.752087Z"
    }
   },
   "source": [
    "#### Generate 100000 numbers from exponential distribution with parameter beta = 0.5\n",
    "\n",
    "The exponential distribution is sometimes parametrized in terms of the scale parameter **β = 1/λ**. We were reading about the **λ** in the previous reading."
   ]
  },
  {
   "cell_type": "code",
   "execution_count": 38,
   "metadata": {},
   "outputs": [],
   "source": [
    "exponential = np.random.exponential(0.5, size=100000)"
   ]
  },
  {
   "cell_type": "code",
   "execution_count": null,
   "metadata": {},
   "outputs": [],
   "source": []
  },
  {
   "cell_type": "markdown",
   "metadata": {
    "ExecuteTime": {
     "end_time": "2020-02-05T17:54:45.134091Z",
     "start_time": "2020-02-05T17:54:44.956351Z"
    }
   },
   "source": [
    "#### Plot histogram of exponential distribution with params `density=True`, `bins=100`\n"
   ]
  },
  {
   "cell_type": "code",
   "execution_count": 39,
   "metadata": {},
   "outputs": [
    {
     "data": {
      "image/png": "[encoded data removed]",
      "text/plain": [
       "<Figure size 432x288 with 1 Axes>"
      ]
     },
     "metadata": {},
     "output_type": "display_data"
    }
   ],
   "source": [
    "plt.hist(exponential, density=True, bins=100)\n",
    "plt.ylabel('density')\n",
    "plt.xlabel('value')\n",
    "plt.show()"
   ]
  },
  {
   "cell_type": "code",
   "execution_count": null,
   "metadata": {},
   "outputs": [],
   "source": []
  },
  {
   "cell_type": "markdown",
   "metadata": {
    "ExecuteTime": {
     "end_time": "2020-02-05T17:54:45.187080Z",
     "start_time": "2020-02-05T17:54:45.171406Z"
    }
   },
   "source": [
    "#### Check the mean of exponential data"
   ]
  },
  {
   "cell_type": "code",
   "execution_count": 40,
   "metadata": {},
   "outputs": [
    {
     "data": {
      "text/plain": [
       "0.49842419045537606"
      ]
     },
     "execution_count": 40,
     "metadata": {},
     "output_type": "execute_result"
    }
   ],
   "source": [
    "np.mean(exponential)"
   ]
  },
  {
   "cell_type": "code",
   "execution_count": null,
   "metadata": {},
   "outputs": [],
   "source": []
  }
 ],
 "metadata": {
  "kernelspec": {
   "display_name": "Python 3",
   "language": "python",
   "name": "python3"
  },
  "language_info": {
   "codemirror_mode": {
    "name": "ipython",
    "version": 3
   },
   "file_extension": ".py",
   "mimetype": "text/x-python",
   "name": "python",
   "nbconvert_exporter": "python",
   "pygments_lexer": "ipython3",
   "version": "3.8.8"
  },
  "toc": {
   "base_numbering": 1,
   "nav_menu": {},
   "number_sections": true,
   "sideBar": true,
   "skip_h1_title": false,
   "title_cell": "Table of Contents",
   "title_sidebar": "Contents",
   "toc_cell": false,
   "toc_position": {},
   "toc_section_display": true,
   "toc_window_display": false
  },
  "varInspector": {
   "cols": {
    "lenName": 16,
    "lenType": 16,
    "lenVar": 40
   },
   "kernels_config": {
    "python": {
     "delete_cmd_postfix": "",
     "delete_cmd_prefix": "del ",
     "library": "var_list.py",
     "varRefreshCmd": "print(var_dic_list())"
    },
    "r": {
     "delete_cmd_postfix": ") ",
     "delete_cmd_prefix": "rm(",
     "library": "var_list.r",
     "varRefreshCmd": "cat(var_dic_list()) "
    }
   },
   "types_to_exclude": [
    "module",
    "function",
    "builtin_function_or_method",
    "instance",
    "_Feature"
   ],
   "window_display": false
  }
 },
 "nbformat": 4,
 "nbformat_minor": 4
}
